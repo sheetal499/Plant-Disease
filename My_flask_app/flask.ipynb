{
 "cells": [
  {
   "cell_type": "code",
   "execution_count": 1,
   "id": "2027dc0b",
   "metadata": {
    "ExecuteTime": {
     "end_time": "2024-05-19T06:25:44.851103Z",
     "start_time": "2024-05-19T06:25:30.126775Z"
    }
   },
   "outputs": [
    {
     "name": "stderr",
     "output_type": "stream",
     "text": [
      "C:\\Users\\Sheetal\\anaconda3\\lib\\site-packages\\scipy\\__init__.py:155: UserWarning: A NumPy version >=1.18.5 and <1.25.0 is required for this version of SciPy (detected version 1.26.2\n",
      "  warnings.warn(f\"A NumPy version >={np_minversion} and <{np_maxversion}\"\n"
     ]
    },
    {
     "name": "stdout",
     "output_type": "stream",
     "text": [
      "WARNING:tensorflow:From C:\\Users\\Sheetal\\anaconda3\\lib\\site-packages\\keras\\src\\losses.py:2976: The name tf.losses.sparse_softmax_cross_entropy is deprecated. Please use tf.compat.v1.losses.sparse_softmax_cross_entropy instead.\n",
      "\n"
     ]
    }
   ],
   "source": [
    "from flask import Flask, request\n",
    "from tensorflow.keras.models import Model\n",
    "from tensorflow.keras.models import Model, Sequential, load_model\n",
    "import pickle\n",
    "import numpy as np\n",
    "from tensorflow.keras.preprocessing.image import ImageDataGenerator, load_img"
   ]
  },
  {
   "cell_type": "code",
   "execution_count": null,
   "id": "21132cbb",
   "metadata": {
    "ExecuteTime": {
     "start_time": "2024-05-19T06:25:48.640320Z"
    },
    "jupyter": {
     "is_executing": true
    }
   },
   "outputs": [
    {
     "name": "stdout",
     "output_type": "stream",
     "text": [
      " * Serving Flask app \"__main__\" (lazy loading)\n",
      " * Environment: production\n",
      "\u001b[31m   WARNING: This is a development server. Do not use it in a production deployment.\u001b[0m\n",
      "\u001b[2m   Use a production WSGI server instead.\u001b[0m\n",
      " * Debug mode: off\n"
     ]
    },
    {
     "name": "stderr",
     "output_type": "stream",
     "text": [
      " * Running on http://127.0.0.1:5000/ (Press CTRL+C to quit)\n"
     ]
    },
    {
     "name": "stdout",
     "output_type": "stream",
     "text": [
      "1/1 [==============================] - 0s 318ms/step\n"
     ]
    },
    {
     "name": "stderr",
     "output_type": "stream",
     "text": [
      "127.0.0.1 - - [19/May/2024 12:01:19] \"POST /model HTTP/1.1\" 200 -\n",
      "[2024-05-19 12:01:30,999] ERROR in app: Exception on /model [POST]\n",
      "Traceback (most recent call last):\n",
      "  File \"C:\\Users\\Sheetal\\anaconda3\\lib\\site-packages\\flask\\app.py\", line 2447, in wsgi_app\n",
      "    response = self.full_dispatch_request()\n",
      "  File \"C:\\Users\\Sheetal\\anaconda3\\lib\\site-packages\\flask\\app.py\", line 1952, in full_dispatch_request\n",
      "    rv = self.handle_user_exception(e)\n",
      "  File \"C:\\Users\\Sheetal\\anaconda3\\lib\\site-packages\\flask\\app.py\", line 1821, in handle_user_exception\n",
      "    reraise(exc_type, exc_value, tb)\n",
      "  File \"C:\\Users\\Sheetal\\anaconda3\\lib\\site-packages\\flask\\_compat.py\", line 39, in reraise\n",
      "    raise value\n",
      "  File \"C:\\Users\\Sheetal\\anaconda3\\lib\\site-packages\\flask\\app.py\", line 1950, in full_dispatch_request\n",
      "    rv = self.dispatch_request()\n",
      "  File \"C:\\Users\\Sheetal\\anaconda3\\lib\\site-packages\\flask\\app.py\", line 1936, in dispatch_request\n",
      "    return self.view_functions[rule.endpoint](**req.view_args)\n",
      "  File \"C:\\Users\\Sheetal\\AppData\\Local\\Temp\\ipykernel_9024\\1004831305.py\", line 8, in serve_model\n",
      "    img=np.array(img).reshape(-1,256,256,3)\n",
      "ValueError: cannot reshape array of size 1157100 into shape (256,256,3)\n",
      "127.0.0.1 - - [19/May/2024 12:01:31] \"POST /model HTTP/1.1\" 500 -\n"
     ]
    },
    {
     "name": "stdout",
     "output_type": "stream",
     "text": [
      "1/1 [==============================] - 0s 65ms/step\n"
     ]
    },
    {
     "name": "stderr",
     "output_type": "stream",
     "text": [
      "127.0.0.1 - - [19/May/2024 12:02:11] \"POST /model HTTP/1.1\" 200 -\n",
      "[2024-05-19 12:02:55,933] ERROR in app: Exception on /model [POST]\n",
      "Traceback (most recent call last):\n",
      "  File \"C:\\Users\\Sheetal\\anaconda3\\lib\\site-packages\\flask\\app.py\", line 2447, in wsgi_app\n",
      "    response = self.full_dispatch_request()\n",
      "  File \"C:\\Users\\Sheetal\\anaconda3\\lib\\site-packages\\flask\\app.py\", line 1952, in full_dispatch_request\n",
      "    rv = self.handle_user_exception(e)\n",
      "  File \"C:\\Users\\Sheetal\\anaconda3\\lib\\site-packages\\flask\\app.py\", line 1821, in handle_user_exception\n",
      "    reraise(exc_type, exc_value, tb)\n",
      "  File \"C:\\Users\\Sheetal\\anaconda3\\lib\\site-packages\\flask\\_compat.py\", line 39, in reraise\n",
      "    raise value\n",
      "  File \"C:\\Users\\Sheetal\\anaconda3\\lib\\site-packages\\flask\\app.py\", line 1950, in full_dispatch_request\n",
      "    rv = self.dispatch_request()\n",
      "  File \"C:\\Users\\Sheetal\\anaconda3\\lib\\site-packages\\flask\\app.py\", line 1936, in dispatch_request\n",
      "    return self.view_functions[rule.endpoint](**req.view_args)\n",
      "  File \"C:\\Users\\Sheetal\\AppData\\Local\\Temp\\ipykernel_9024\\1004831305.py\", line 8, in serve_model\n",
      "    img=np.array(img).reshape(-1,256,256,3)\n",
      "ValueError: cannot reshape array of size 1157100 into shape (256,256,3)\n",
      "127.0.0.1 - - [19/May/2024 12:02:55] \"POST /model HTTP/1.1\" 500 -\n",
      "[2024-05-19 12:03:27,806] ERROR in app: Exception on /model [POST]\n",
      "Traceback (most recent call last):\n",
      "  File \"C:\\Users\\Sheetal\\anaconda3\\lib\\site-packages\\flask\\app.py\", line 2447, in wsgi_app\n",
      "    response = self.full_dispatch_request()\n",
      "  File \"C:\\Users\\Sheetal\\anaconda3\\lib\\site-packages\\flask\\app.py\", line 1952, in full_dispatch_request\n",
      "    rv = self.handle_user_exception(e)\n",
      "  File \"C:\\Users\\Sheetal\\anaconda3\\lib\\site-packages\\flask\\app.py\", line 1821, in handle_user_exception\n",
      "    reraise(exc_type, exc_value, tb)\n",
      "  File \"C:\\Users\\Sheetal\\anaconda3\\lib\\site-packages\\flask\\_compat.py\", line 39, in reraise\n",
      "    raise value\n",
      "  File \"C:\\Users\\Sheetal\\anaconda3\\lib\\site-packages\\flask\\app.py\", line 1950, in full_dispatch_request\n",
      "    rv = self.dispatch_request()\n",
      "  File \"C:\\Users\\Sheetal\\anaconda3\\lib\\site-packages\\flask\\app.py\", line 1936, in dispatch_request\n",
      "    return self.view_functions[rule.endpoint](**req.view_args)\n",
      "  File \"C:\\Users\\Sheetal\\AppData\\Local\\Temp\\ipykernel_9024\\1004831305.py\", line 8, in serve_model\n",
      "    img=np.array(img).reshape(-1,256,256,3)\n",
      "ValueError: cannot reshape array of size 1157100 into shape (256,256,3)\n",
      "127.0.0.1 - - [19/May/2024 12:03:27] \"POST /model HTTP/1.1\" 500 -\n"
     ]
    },
    {
     "name": "stdout",
     "output_type": "stream",
     "text": [
      "1/1 [==============================] - 0s 65ms/step\n"
     ]
    },
    {
     "name": "stderr",
     "output_type": "stream",
     "text": [
      "127.0.0.1 - - [19/May/2024 12:04:13] \"POST /model HTTP/1.1\" 200 -\n"
     ]
    }
   ],
   "source": [
    "model = load_model(r\"C:\\Users\\Sheetal\\Desktop\\DataSet\\Apple\\model_h5.h5\")\n",
    "\n",
    "app= Flask(__name__)\n",
    "@app.route('/model',methods=['POST'])\n",
    "def serve_model():\n",
    "    request_data= request.get_json(force=True)\n",
    "    img= request_data['img']\n",
    "    img=np.array(img).reshape(-1,256,256,3)\n",
    "\n",
    "    classname=['Apple___Apple_scab',\n",
    "    'Apple___Black_rot',\n",
    "    'Apple___Cedar_apple_rust',\n",
    "    'Apple___healthy']\n",
    "#     return (\"The prediction is {}\".format([model.predict(img).argmax()]))\n",
    "    return (\"The prediction is {}\".format(classname[model.predict(img).argmax()]))\n",
    "\n",
    "if __name__==\"__main__\":\n",
    "      app.run()"
   ]
  },
  {
   "cell_type": "code",
   "execution_count": 1,
   "id": "6c8bd6f1",
   "metadata": {
    "ExecuteTime": {
     "end_time": "2024-05-19T06:23:34.381276Z",
     "start_time": "2024-05-19T06:23:34.229199Z"
    }
   },
   "outputs": [
    {
     "ename": "NameError",
     "evalue": "name 'load_model' is not defined",
     "output_type": "error",
     "traceback": [
      "\u001b[1;31m---------------------------------------------------------------------------\u001b[0m",
      "\u001b[1;31mNameError\u001b[0m                                 Traceback (most recent call last)",
      "\u001b[1;32m~\\AppData\\Local\\Temp\\ipykernel_15664\\1688064966.py\u001b[0m in \u001b[0;36m<module>\u001b[1;34m\u001b[0m\n\u001b[1;32m----> 1\u001b[1;33m \u001b[0mmodel\u001b[0m \u001b[1;33m=\u001b[0m \u001b[0mload_model\u001b[0m\u001b[1;33m(\u001b[0m\u001b[1;34mr\"C:\\Users\\Sheetal\\Desktop\\DataSet\\Apple\\model_h5.h5\"\u001b[0m\u001b[1;33m)\u001b[0m\u001b[1;33m\u001b[0m\u001b[1;33m\u001b[0m\u001b[0m\n\u001b[0m\u001b[0;32m      2\u001b[0m \u001b[1;33m\u001b[0m\u001b[0m\n\u001b[0;32m      3\u001b[0m \u001b[0mapp\u001b[0m\u001b[1;33m=\u001b[0m \u001b[0mFlask\u001b[0m\u001b[1;33m(\u001b[0m\u001b[0m__name__\u001b[0m\u001b[1;33m)\u001b[0m\u001b[1;33m\u001b[0m\u001b[1;33m\u001b[0m\u001b[0m\n\u001b[0;32m      4\u001b[0m \u001b[1;33m@\u001b[0m\u001b[0mapp\u001b[0m\u001b[1;33m.\u001b[0m\u001b[0mroute\u001b[0m\u001b[1;33m(\u001b[0m\u001b[1;34m'/'\u001b[0m\u001b[1;33m,\u001b[0m\u001b[0mmethods\u001b[0m\u001b[1;33m=\u001b[0m\u001b[1;33m[\u001b[0m\u001b[1;34m\"POST\"\u001b[0m\u001b[1;33m,\u001b[0m\u001b[1;34m\"GET\"\u001b[0m\u001b[1;33m]\u001b[0m\u001b[1;33m)\u001b[0m\u001b[1;33m\u001b[0m\u001b[1;33m\u001b[0m\u001b[0m\n\u001b[0;32m      5\u001b[0m \u001b[1;32mdef\u001b[0m \u001b[0mserve_model\u001b[0m\u001b[1;33m(\u001b[0m\u001b[1;33m)\u001b[0m\u001b[1;33m:\u001b[0m\u001b[1;33m\u001b[0m\u001b[1;33m\u001b[0m\u001b[0m\n",
      "\u001b[1;31mNameError\u001b[0m: name 'load_model' is not defined"
     ]
    }
   ],
   "source": [
    "model = load_model(r\"C:\\Users\\Sheetal\\Desktop\\DataSet\\Apple\\model_h5.h5\")\n",
    "\n",
    "app= Flask(__name__)\n",
    "@app.route('/model',methods=[\"POST\",\"GET\"])\n",
    "def serve_model():\n",
    "    request_data= request.get_json(force=True)\n",
    "    img= request_data['img']\n",
    "    img=np.array(img).reshape(-1,256,256,3)\n",
    "\n",
    "    classname=['Apple___Apple_scab',\n",
    "    'Apple___Black_rot',\n",
    "    'Apple___Cedar_apple_rust',\n",
    "    'Apple___healthy']\n",
    "    \n",
    "    output=classname[model.predict(img).argmax()]\n",
    "    return (\"The prediction is {}\".format([model.predict(img).argmax()]))\n",
    "    # return render_template(\"templates/MainPage.html\",name_disease=output)\n",
    "#     return (\"The prediction is {}\".format(classname[model.predict(img).argmax()]))\n",
    "\n",
    "if __name__==\"__main__\":\n",
    "      app.run()"
   ]
  },
  {
   "cell_type": "code",
   "execution_count": null,
   "id": "6a05de93",
   "metadata": {
    "ExecuteTime": {
     "end_time": "2024-05-19T06:23:22.089226Z",
     "start_time": "2024-05-19T06:23:22.080856Z"
    }
   },
   "outputs": [],
   "source": []
  },
  {
   "cell_type": "code",
   "execution_count": null,
   "id": "14b6fc75",
   "metadata": {},
   "outputs": [],
   "source": []
  }
 ],
 "metadata": {
  "kernelspec": {
   "display_name": "Python 3 (ipykernel)",
   "language": "python",
   "name": "python3"
  },
  "language_info": {
   "codemirror_mode": {
    "name": "ipython",
    "version": 3
   },
   "file_extension": ".py",
   "mimetype": "text/x-python",
   "name": "python",
   "nbconvert_exporter": "python",
   "pygments_lexer": "ipython3",
   "version": "3.9.13"
  }
 },
 "nbformat": 4,
 "nbformat_minor": 5
}
