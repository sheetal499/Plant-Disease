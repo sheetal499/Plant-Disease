{
 "cells": [
  {
   "cell_type": "code",
   "execution_count": 1,
   "id": "a71d5741",
   "metadata": {
    "ExecuteTime": {
     "end_time": "2024-05-19T06:26:10.775820Z",
     "start_time": "2024-05-19T06:25:55.165671Z"
    }
   },
   "outputs": [
    {
     "name": "stderr",
     "output_type": "stream",
     "text": [
      "C:\\Users\\Sheetal\\anaconda3\\lib\\site-packages\\scipy\\__init__.py:155: UserWarning: A NumPy version >=1.18.5 and <1.25.0 is required for this version of SciPy (detected version 1.26.2\n",
      "  warnings.warn(f\"A NumPy version >={np_minversion} and <{np_maxversion}\"\n"
     ]
    },
    {
     "name": "stdout",
     "output_type": "stream",
     "text": [
      "WARNING:tensorflow:From C:\\Users\\Sheetal\\anaconda3\\lib\\site-packages\\keras\\src\\losses.py:2976: The name tf.losses.sparse_softmax_cross_entropy is deprecated. Please use tf.compat.v1.losses.sparse_softmax_cross_entropy instead.\n",
      "\n"
     ]
    }
   ],
   "source": [
    "import pickle\n",
    "import numpy as np\n",
    "from tensorflow.keras.preprocessing.image import ImageDataGenerator, load_img\n",
    "import json\n",
    "import requests\n",
    "import PIL\n",
    "import matplotlib.pyplot as plt"
   ]
  },
  {
   "cell_type": "code",
   "execution_count": 10,
   "id": "72a7c141",
   "metadata": {
    "ExecuteTime": {
     "end_time": "2024-05-19T06:26:11.121309Z",
     "start_time": "2024-05-19T06:26:10.779859Z"
    }
   },
   "outputs": [
    {
     "data": {
      "text/plain": [
       "'The prediction is Apple___Black_rot'"
      ]
     },
     "execution_count": 10,
     "metadata": {},
     "output_type": "execute_result"
    }
   ],
   "source": [
    "# img= np.array(load_img(r\"C:\\Users\\Sheetal\\Desktop\\DataSet\\Apple\\Apple\\Apple___Apple_scab\\0a5e9323-dbad-432d-ac58-d291718345d9___FREC_Scab_3417.JPG\").resize((256, 256))).tolist()\n",
    "# img= np.array(load_img(r\"C:\\Users\\Sheetal\\Desktop\\DataSet\\Apple\\Apple\\Apple___Apple_scab\\0a5e9323-dbad-432d-ac58-d291718345d9___FREC_Scab_3417.JPG\")).tolist()\n",
    "img= np.array(load_img(r\"C:\\Users\\Sheetal\\Desktop\\DataSet\\Apple\\Apple\\Apple___Black_rot\\00e909aa-e3ae-4558-9961-336bb0f35db3___JR_FrgE.S 8593.JPG\")).tolist()\n",
    "url='http://127.0.0.1:5000/model'\n",
    "\n",
    "requested_data=json.dumps({'img':img})\n",
    "response = requests.post(url, requested_data)\n",
    "\n",
    "response.text"
   ]
  },
  {
   "cell_type": "code",
   "execution_count": 25,
   "id": "678da630",
   "metadata": {},
   "outputs": [],
   "source": [
    "img= np.array(load_img(r\"C:\\Users\\Sheetal\\Desktop\\DataSet\\Apple\\Apple\\Apple___Apple_scab\\0a5e9323-dbad-432d-ac58-d291718345d9___FREC_Scab_3417.JPG\").resize((256, 256))).tolist()\n",
    "url='http://127.0.0.1:5000/model'\n"
   ]
  },
  {
   "cell_type": "code",
   "execution_count": 15,
   "id": "2afa8b58",
   "metadata": {},
   "outputs": [],
   "source": [
    "requested_data=json.dumps({'img':img})\n",
    "response = requests.post(url, requested_data)"
   ]
  },
  {
   "cell_type": "code",
   "execution_count": 16,
   "id": "8fe4db6a",
   "metadata": {},
   "outputs": [
    {
     "data": {
      "text/plain": [
       "'{\"error\":\"No file part in the request\"}\\n'"
      ]
     },
     "execution_count": 16,
     "metadata": {},
     "output_type": "execute_result"
    }
   ],
   "source": [
    "response.text"
   ]
  },
  {
   "cell_type": "code",
   "execution_count": 17,
   "id": "0273c82d",
   "metadata": {},
   "outputs": [],
   "source": [
    "# import tensorflow as tf\n",
    "# from tensorflow.keras import models, layers"
   ]
  },
  {
   "cell_type": "code",
   "execution_count": 18,
   "id": "9aa185ce",
   "metadata": {},
   "outputs": [],
   "source": [
    "# new_model=tf.keras.models.load_model(r\"C:/Users/Sheetal/Desktop/DataSet/Apple/Saving_Apple\")"
   ]
  },
  {
   "cell_type": "code",
   "execution_count": 19,
   "id": "cb523ce0",
   "metadata": {},
   "outputs": [],
   "source": [
    "# new_model.summary()"
   ]
  },
  {
   "cell_type": "code",
   "execution_count": 20,
   "id": "628d8d80",
   "metadata": {},
   "outputs": [
    {
     "ename": "NameError",
     "evalue": "name 'new_model' is not defined",
     "output_type": "error",
     "traceback": [
      "\u001b[1;31m---------------------------------------------------------------------------\u001b[0m",
      "\u001b[1;31mNameError\u001b[0m                                 Traceback (most recent call last)",
      "\u001b[1;32m~\\AppData\\Local\\Temp\\ipykernel_11852\\2286831792.py\u001b[0m in \u001b[0;36m<module>\u001b[1;34m\u001b[0m\n\u001b[1;32m----> 1\u001b[1;33m \u001b[0mnew_model\u001b[0m\u001b[1;33m.\u001b[0m\u001b[0msave\u001b[0m\u001b[1;33m(\u001b[0m\u001b[1;34m'C:/Users/Sheetal/Desktop/DataSet/Apple/model_h5.h5'\u001b[0m\u001b[1;33m)\u001b[0m\u001b[1;33m\u001b[0m\u001b[1;33m\u001b[0m\u001b[0m\n\u001b[0m",
      "\u001b[1;31mNameError\u001b[0m: name 'new_model' is not defined"
     ]
    }
   ],
   "source": [
    "# new_model.save('C:/Users/Sheetal/Desktop/DataSet/Apple/model_h5.h5')"
   ]
  },
  {
   "cell_type": "code",
   "execution_count": null,
   "id": "2f4c872b",
   "metadata": {},
   "outputs": [],
   "source": []
  }
 ],
 "metadata": {
  "kernelspec": {
   "display_name": "Python 3 (ipykernel)",
   "language": "python",
   "name": "python3"
  },
  "language_info": {
   "codemirror_mode": {
    "name": "ipython",
    "version": 3
   },
   "file_extension": ".py",
   "mimetype": "text/x-python",
   "name": "python",
   "nbconvert_exporter": "python",
   "pygments_lexer": "ipython3",
   "version": "3.9.13"
  }
 },
 "nbformat": 4,
 "nbformat_minor": 5
}
